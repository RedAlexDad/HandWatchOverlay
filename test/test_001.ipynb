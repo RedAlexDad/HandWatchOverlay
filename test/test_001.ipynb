{
 "cells": [
  {
   "cell_type": "code",
   "execution_count": 1,
   "id": "dd8ebe6b-1265-477c-9b09-652a60c6c194",
   "metadata": {},
   "outputs": [],
   "source": [
    "import cv2"
   ]
  },
  {
   "cell_type": "code",
   "execution_count": 2,
   "id": "78ca334c-cf83-41fc-afe7-60ea52b8c2c8",
   "metadata": {},
   "outputs": [
    {
     "name": "stderr",
     "output_type": "stream",
     "text": [
      "[ERROR:0@0.515] global persistence.cpp:519 open Can't open file: '/home/redalexdad/anaconda3/envs/dl_science/lib/python3.9/site-packages/cv2/data/haarcascade_hand.xml' in read mode\n"
     ]
    }
   ],
   "source": [
    "# Загрузка каскадов для обнаружения рук\n",
    "hand_cascade = cv2.CascadeClassifier(cv2.data.haarcascades + 'haarcascade_hand.xml')"
   ]
  },
  {
   "cell_type": "code",
   "execution_count": 3,
   "id": "38f0340d-aa25-46eb-ac27-99c2819edf3e",
   "metadata": {},
   "outputs": [
    {
     "name": "stderr",
     "output_type": "stream",
     "text": [
      "[ WARN:0@2.956] global loadsave.cpp:248 findDecoder imread_('clock.png'): can't open/read file: check file path/integrity\n"
     ]
    }
   ],
   "source": [
    "# Загрузка изображения часов\n",
    "clock_image = cv2.imread('clock.png', cv2.IMREAD_UNCHANGED)"
   ]
  },
  {
   "cell_type": "code",
   "execution_count": 4,
   "id": "e86e1b17-ec9e-4afb-bd8e-71c4b65b1032",
   "metadata": {},
   "outputs": [],
   "source": [
    "# Функция для наложения часов на руки\n",
    "def overlay_clock(hand_roi, clock_image):\n",
    "    # Изменяем размер изображения часов, чтобы оно соответствовало размеру руки\n",
    "    clock_resized = cv2.resize(clock_image, (hand_roi.shape[1], hand_roi.shape[0]))\n",
    "    \n",
    "    # Извлекаем альфа-канал из изображения часов\n",
    "    clock_alpha = clock_resized[:, :, 3] / 255.0\n",
    "    \n",
    "    # Извлекаем каналы BGR из изображения часов\n",
    "    clock_bgr = clock_resized[:, :, 0:3]\n",
    "    \n",
    "    # Накладываем часы на руку с учетом альфа-канала\n",
    "    hand_roi = hand_roi.astype(float)\n",
    "    overlay = (clock_bgr.astype(float) * clock_alpha[:,:,None]) + (hand_roi * (1 - clock_alpha[:,:,None]))\n",
    "    overlay = overlay.astype('uint8')\n",
    "    \n",
    "    return overlay"
   ]
  },
  {
   "cell_type": "code",
   "execution_count": 5,
   "id": "0a3aa702-f83a-4fcc-af18-c0774c357acd",
   "metadata": {},
   "outputs": [],
   "source": [
    "# Захватываем видеопоток с камеры\n",
    "cap = cv2.VideoCapture(0)"
   ]
  },
  {
   "cell_type": "code",
   "execution_count": 6,
   "id": "b83f192e-2897-454b-bc3f-8d141fc0c305",
   "metadata": {},
   "outputs": [
    {
     "ename": "error",
     "evalue": "OpenCV(4.9.0) /io/opencv/modules/objdetect/src/cascadedetect.cpp:1689: error: (-215:Assertion failed) !empty() in function 'detectMultiScale'\n",
     "output_type": "error",
     "traceback": [
      "\u001b[0;31m---------------------------------------------------------------------------\u001b[0m",
      "\u001b[0;31merror\u001b[0m                                     Traceback (most recent call last)",
      "Cell \u001b[0;32mIn[6], line 10\u001b[0m\n\u001b[1;32m      7\u001b[0m gray \u001b[38;5;241m=\u001b[39m cv2\u001b[38;5;241m.\u001b[39mcvtColor(frame, cv2\u001b[38;5;241m.\u001b[39mCOLOR_BGR2GRAY)\n\u001b[1;32m      9\u001b[0m \u001b[38;5;66;03m# Обнаружение рук\u001b[39;00m\n\u001b[0;32m---> 10\u001b[0m hands \u001b[38;5;241m=\u001b[39m \u001b[43mhand_cascade\u001b[49m\u001b[38;5;241;43m.\u001b[39;49m\u001b[43mdetectMultiScale\u001b[49m\u001b[43m(\u001b[49m\u001b[43mgray\u001b[49m\u001b[43m,\u001b[49m\u001b[43m \u001b[49m\u001b[38;5;241;43m1.3\u001b[39;49m\u001b[43m,\u001b[49m\u001b[43m \u001b[49m\u001b[38;5;241;43m5\u001b[39;49m\u001b[43m)\u001b[49m\n\u001b[1;32m     12\u001b[0m \u001b[38;5;66;03m# Наложение часов на руки\u001b[39;00m\n\u001b[1;32m     13\u001b[0m \u001b[38;5;28;01mfor\u001b[39;00m (x, y, w, h) \u001b[38;5;129;01min\u001b[39;00m hands:\n",
      "\u001b[0;31merror\u001b[0m: OpenCV(4.9.0) /io/opencv/modules/objdetect/src/cascadedetect.cpp:1689: error: (-215:Assertion failed) !empty() in function 'detectMultiScale'\n"
     ]
    }
   ],
   "source": [
    "while True:\n",
    "    ret, frame = cap.read()\n",
    "    if not ret:\n",
    "        break\n",
    "    \n",
    "    # Преобразовываем изображение в оттенки серого\n",
    "    gray = cv2.cvtColor(frame, cv2.COLOR_BGR2GRAY)\n",
    "    \n",
    "    # Обнаружение рук\n",
    "    hands = hand_cascade.detectMultiScale(gray, 1.3, 5)\n",
    "    \n",
    "    # Наложение часов на руки\n",
    "    for (x, y, w, h) in hands:\n",
    "        hand_roi = frame[y:y+h, x:x+w]\n",
    "        frame[y:y+h, x:x+w] = overlay_clock(hand_roi, clock_image)\n",
    "    \n",
    "    # Отображение результата\n",
    "    cv2.imshow('Clock Overlay', frame)\n",
    "    \n",
    "    # Выход из цикла при нажатии клавиши 'q'\n",
    "    if cv2.waitKey(1) & 0xFF == ord('q'):\n",
    "        break"
   ]
  },
  {
   "cell_type": "code",
   "execution_count": 7,
   "id": "05746967-9bfd-466a-a7f4-7ba16e741846",
   "metadata": {},
   "outputs": [],
   "source": [
    "# Освобождаем ресурсы\n",
    "cap.release()\n",
    "cv2.destroyAllWindows()"
   ]
  },
  {
   "cell_type": "code",
   "execution_count": null,
   "id": "1a74fabb-0f3b-41de-92c4-b6897cde4e55",
   "metadata": {},
   "outputs": [],
   "source": []
  }
 ],
 "metadata": {
  "kernelspec": {
   "display_name": "Python 3 (ipykernel)",
   "language": "python",
   "name": "python3"
  },
  "language_info": {
   "codemirror_mode": {
    "name": "ipython",
    "version": 3
   },
   "file_extension": ".py",
   "mimetype": "text/x-python",
   "name": "python",
   "nbconvert_exporter": "python",
   "pygments_lexer": "ipython3",
   "version": "3.9.18"
  }
 },
 "nbformat": 4,
 "nbformat_minor": 5
}
